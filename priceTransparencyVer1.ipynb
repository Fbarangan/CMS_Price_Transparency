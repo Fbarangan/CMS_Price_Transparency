{
 "cells": [
  {
   "cell_type": "code",
   "execution_count": 370,
   "id": "2a1a3687-0dce-40c0-bae8-47015eb342f6",
   "metadata": {},
   "outputs": [],
   "source": [
    "import pandas as pd\n",
    "import numpy as np\n",
    "\n",
    "# Input file name\n",
    "filename = 'priceTest.csv'\n"
   ]
  },
  {
   "cell_type": "code",
   "execution_count": 371,
   "id": "66a25202-1fc9-4591-a79e-f1a77900e834",
   "metadata": {},
   "outputs": [],
   "source": [
    "# Read the input file into a pandas DataFrame\n",
    "df = pd.read_csv(filename)\n"
   ]
  },
  {
   "cell_type": "code",
   "execution_count": 372,
   "id": "9c49b5cb-dae3-402c-9558-26d6b0e90623",
   "metadata": {},
   "outputs": [],
   "source": [
    "# Generate a sequence of unique numbers using numpy\n",
    "unique_numbers = np.arange(1, len(df) + 1)"
   ]
  },
  {
   "cell_type": "code",
   "execution_count": 373,
   "id": "42ee2e3b-78cd-48a7-8dc6-80326ae715c8",
   "metadata": {},
   "outputs": [],
   "source": [
    "\n",
    "# Assign the sequence of unique numbers to a new column in the DataFrame\n",
    "df['ID_Number'] = unique_numbers\n"
   ]
  },
  {
   "cell_type": "code",
   "execution_count": 374,
   "id": "0daa3b8b-5c6d-4ea5-8cab-6f68cd694722",
   "metadata": {},
   "outputs": [],
   "source": [
    "#Rename IP Expected Reimbursement and OP Expected Reimbursement to just IP and OP. \n",
    "# This will be appended into each Plans. This will resulce header length instead of the whole IP Expected Reimbursement or OP Expected Reimbursement\n",
    "df_Rename = df.rename(columns={'IP Expected Reimbursement': 'IP', 'OP Expected Reimbursement': 'OP'})\n"
   ]
  },
  {
   "cell_type": "code",
   "execution_count": 375,
   "id": "2066bbf0-cfa7-4972-9006-2ca9ac68bfd9",
   "metadata": {},
   "outputs": [],
   "source": [
    "# Replace spaces in column names with underscores\n",
    "df_Rename.columns = [col.replace(' ', '_') for col in df_Rename.columns]\n"
   ]
  },
  {
   "cell_type": "code",
   "execution_count": 376,
   "id": "bf5fd820-cb10-41c8-bb4e-dcb5f68c0f5a",
   "metadata": {},
   "outputs": [
    {
     "name": "stdout",
     "output_type": "stream",
     "text": [
      "(4, 11)\n",
      "   ID_Number Code_type       Code Procedure_Description  NDC  \\\n",
      "0          1       EAP  CPT 10080           Cyst Simple  NaN   \n",
      "1          2       EAP  CPT 10080           Cyst Simple  NaN   \n",
      "2          3       EAP  CPT 10080           Cyst Simple  NaN   \n",
      "3          4       EAP  CPT 10080           Cyst Simple  NaN   \n",
      "\n",
      "                                            Rev_Code  IP_Price  OP_Price  \\\n",
      "0                 0516 - CLINIC - URGENT CARE CLINIC       100       100   \n",
      "1  0516 - CLINIC - EMERGENCY ROOM URGENT CARE CLINIC       100       100   \n",
      "2                 0516 - CLINIC - URGENT CARE CLINIC       100       100   \n",
      "3                 0516 - CLINIC - URGENT CARE CLINIC       100       100   \n",
      "\n",
      "       Plan(s)   IP   OP  \n",
      "0     Self Pay  200  200  \n",
      "1  Payer1Plan1  300  400  \n",
      "2  Payer1Plan2  250  350  \n",
      "3  Payer1Plan2  100  350  \n"
     ]
    }
   ],
   "source": [
    "# Select the columns to include in the output\n",
    "df_Rename = df_Rename[['ID_Number', 'Code_type', 'Code', 'Procedure_Description', 'NDC', 'Rev_Code', 'IP_Price', 'OP_Price', 'Plan(s)', 'IP', 'OP']]\n",
    "print(df_Rename.shape)\n",
    "print(df_Rename)\n"
   ]
  },
  {
   "cell_type": "code",
   "execution_count": 377,
   "id": "580d56c5-684a-441e-80dc-744924608457",
   "metadata": {},
   "outputs": [],
   "source": [
    "output_filename = 'ColumnSelected.csv'\n",
    "\n",
    "# Write the output to a CSV file\n",
    "df_Rename.to_csv(output_filename, index=False)"
   ]
  },
  {
   "cell_type": "markdown",
   "id": "411ef6de-dc09-4d16-b271-d9810466f63b",
   "metadata": {},
   "source": [
    "# Use R code to perform aggregation per Plans"
   ]
  },
  {
   "cell_type": "code",
   "execution_count": null,
   "id": "da0b0e04-71e6-4592-aaab-aab89983d259",
   "metadata": {},
   "outputs": [],
   "source": [
    "# Place R code here"
   ]
  },
  {
   "cell_type": "code",
   "execution_count": 416,
   "id": "8239c080-8504-4896-8218-d5d017373411",
   "metadata": {},
   "outputs": [],
   "source": [
    "# Change to Python. Use the aggregated output from R\n",
    "# Input filename from R\n",
    "RfileName = 'PT_Grouped.csv'\n",
    "\n",
    "# Read the input file into a pandas DataFrame\n",
    "PT = pd.read_csv(RfileName)\n"
   ]
  },
  {
   "cell_type": "code",
   "execution_count": 417,
   "id": "d9b50596-58d4-4a87-83fc-1741e60c6f91",
   "metadata": {},
   "outputs": [],
   "source": [
    "# Generate another sequence of unique numbers using numpy\n",
    "unique_number2 = np.arange(1, len(PT) + 1)"
   ]
  },
  {
   "cell_type": "code",
   "execution_count": 418,
   "id": "7a31265e-78c2-4667-a2bf-51dfb64e96f8",
   "metadata": {},
   "outputs": [],
   "source": [
    "# Assign the sequence of unique numbers to a new column in the DataFrame\n",
    "PT['ID_No'] = unique_number2"
   ]
  },
  {
   "cell_type": "code",
   "execution_count": 419,
   "id": "c189cf8f-a5f7-4758-9e1e-f9719e016874",
   "metadata": {},
   "outputs": [
    {
     "name": "stdout",
     "output_type": "stream",
     "text": [
      "  Code_type       Code Procedure_Description  NDC  \\\n",
      "0       EAP  CPT 10080           Cyst Simple  NaN   \n",
      "1       EAP  CPT 10080           Cyst Simple  NaN   \n",
      "2       EAP  CPT 10080           Cyst Simple  NaN   \n",
      "\n",
      "                                            Rev_Code        Plans  IP_Price  \\\n",
      "0  0516 - CLINIC - EMERGENCY ROOM URGENT CARE CLINIC  Payer1Plan1       100   \n",
      "1                 0516 - CLINIC - URGENT CARE CLINIC  Payer1Plan2       100   \n",
      "2                 0516 - CLINIC - URGENT CARE CLINIC     Self Pay       100   \n",
      "\n",
      "   OP_Price   IP   OP  ID_No  \n",
      "0       100  300  400      1  \n",
      "1       100  175  350      2  \n",
      "2       100  200  200      3  \n"
     ]
    }
   ],
   "source": [
    "print(PT)"
   ]
  },
  {
   "cell_type": "code",
   "execution_count": 420,
   "id": "582d0b24-d97b-4887-8a97-d679be736b68",
   "metadata": {},
   "outputs": [
    {
     "name": "stdout",
     "output_type": "stream",
     "text": [
      "                                                                                                                           IP  \\\n",
      "Plans                                                                                                             Payer1Plan1   \n",
      "Code_type Code      Procedure_Description NDC Rev_Code                                          IP_Price OP_Price               \n",
      "EAP       CPT 10080 Cyst Simple           NaN 0516 - CLINIC - EMERGENCY ROOM URGENT CARE CLINIC 100      100            300.0   \n",
      "                                              0516 - CLINIC - URGENT CARE CLINIC                100      100              NaN   \n",
      "\n",
      "                                                                                                                               \\\n",
      "Plans                                                                                                             Payer1Plan2   \n",
      "Code_type Code      Procedure_Description NDC Rev_Code                                          IP_Price OP_Price               \n",
      "EAP       CPT 10080 Cyst Simple           NaN 0516 - CLINIC - EMERGENCY ROOM URGENT CARE CLINIC 100      100              NaN   \n",
      "                                              0516 - CLINIC - URGENT CARE CLINIC                100      100            175.0   \n",
      "\n",
      "                                                                                                                            \\\n",
      "Plans                                                                                                             Self Pay   \n",
      "Code_type Code      Procedure_Description NDC Rev_Code                                          IP_Price OP_Price            \n",
      "EAP       CPT 10080 Cyst Simple           NaN 0516 - CLINIC - EMERGENCY ROOM URGENT CARE CLINIC 100      100           NaN   \n",
      "                                              0516 - CLINIC - URGENT CARE CLINIC                100      100         200.0   \n",
      "\n",
      "                                                                                                                           OP  \\\n",
      "Plans                                                                                                             Payer1Plan1   \n",
      "Code_type Code      Procedure_Description NDC Rev_Code                                          IP_Price OP_Price               \n",
      "EAP       CPT 10080 Cyst Simple           NaN 0516 - CLINIC - EMERGENCY ROOM URGENT CARE CLINIC 100      100            400.0   \n",
      "                                              0516 - CLINIC - URGENT CARE CLINIC                100      100              NaN   \n",
      "\n",
      "                                                                                                                               \\\n",
      "Plans                                                                                                             Payer1Plan2   \n",
      "Code_type Code      Procedure_Description NDC Rev_Code                                          IP_Price OP_Price               \n",
      "EAP       CPT 10080 Cyst Simple           NaN 0516 - CLINIC - EMERGENCY ROOM URGENT CARE CLINIC 100      100              NaN   \n",
      "                                              0516 - CLINIC - URGENT CARE CLINIC                100      100            350.0   \n",
      "\n",
      "                                                                                                                            \n",
      "Plans                                                                                                             Self Pay  \n",
      "Code_type Code      Procedure_Description NDC Rev_Code                                          IP_Price OP_Price           \n",
      "EAP       CPT 10080 Cyst Simple           NaN 0516 - CLINIC - EMERGENCY ROOM URGENT CARE CLINIC 100      100           NaN  \n",
      "                                              0516 - CLINIC - URGENT CARE CLINIC                100      100         200.0  \n"
     ]
    }
   ],
   "source": [
    "# Pivot the DataFrame on the 'Plan(s)' column\n",
    "PT = PT.pivot(index=['Code_type', 'Code', 'Procedure_Description', 'NDC', 'Rev_Code',  'IP_Price', 'OP_Price'], columns='Plans', values=['IP', 'OP'])\n",
    "print(PT)"
   ]
  },
  {
   "cell_type": "code",
   "execution_count": 421,
   "id": "e4db8e8e-864a-4256-b7db-48f043aa8a6e",
   "metadata": {},
   "outputs": [],
   "source": [
    "# Flatten the column names in the pivot table\n",
    "PT.columns = PT.columns.map('_'.join)\n"
   ]
  },
  {
   "cell_type": "code",
   "execution_count": 422,
   "id": "de356eaa-845b-4338-90e5-b4f3051b1005",
   "metadata": {},
   "outputs": [],
   "source": [
    "PT.columns = PT.columns.map(lambda x: x.split('_')[::-1]).map('_'.join)"
   ]
  },
  {
   "cell_type": "code",
   "execution_count": 423,
   "id": "29710149-0ba2-476f-89bb-b19c9ce586e7",
   "metadata": {},
   "outputs": [],
   "source": [
    "# Reset the index to include the original columns in the output\n",
    "PT = PT.reset_index()"
   ]
  },
  {
   "cell_type": "code",
   "execution_count": 424,
   "id": "9e55ca3e-c4c2-4e2e-888c-eb60ca831a33",
   "metadata": {},
   "outputs": [],
   "source": [
    "# Get the subset of columns to sort\n",
    "cols_to_sort = [col for col in PT.columns if '_IP' in col or '_OP' in col]\n",
    "\n",
    "# Sort the subset of columns alphabetically\n",
    "PT = PT.reindex(columns=sorted(cols_to_sort) + [col for col in PT.columns if col not in cols_to_sort])\n"
   ]
  },
  {
   "cell_type": "code",
   "execution_count": 425,
   "id": "21e863cf-d704-4fe6-aa65-27a6586de952",
   "metadata": {},
   "outputs": [],
   "source": [
    "# Get the columns to keep in front\n",
    "cols_to_keep_in_front = ['Code_type' ,'Code','Procedure_Description', 'NDC', 'Rev_Code', 'IP_Price', 'OP_Price']"
   ]
  },
  {
   "cell_type": "code",
   "execution_count": 426,
   "id": "651c3979-000d-4793-8d67-7da3f9483916",
   "metadata": {},
   "outputs": [],
   "source": [
    "# Sort the subset of columns alphabetically\n",
    "PT = PT[cols_to_keep_in_front + sorted(cols_to_sort)]\n"
   ]
  },
  {
   "cell_type": "code",
   "execution_count": 427,
   "id": "722d8b7c-b3cf-4bfb-9543-0c38e2f88cb0",
   "metadata": {},
   "outputs": [],
   "source": [
    "# Get the minimum and maximum values for the columns with '_IP'\n",
    "cols_ip = [col for col in PT.columns if '_IP' in col]\n",
    "min_ip = PT[cols_ip].min(axis=1)\n",
    "max_ip = PT[cols_ip].max(axis=1)\n",
    "\n",
    "# Get the minimum and maximum values for the columns with '_OP'\n",
    "cols_op = [col for col in PT.columns if '_OP' in col]\n",
    "min_op = PT[cols_op].min(axis=1)\n",
    "max_op = PT[cols_op].max(axis=1)"
   ]
  },
  {
   "cell_type": "code",
   "execution_count": 428,
   "id": "560352f1-240c-4720-bce2-a961fb405903",
   "metadata": {},
   "outputs": [],
   "source": [
    "PT.loc[:, 'MIN_IP'] = min_ip\n",
    "PT.loc[:, 'MAX_IP'] = max_ip\n",
    "PT.loc[:, 'MIN_OP'] = min_op\n",
    "PT.loc[:, 'MAX_OP'] = max_op\n"
   ]
  },
  {
   "cell_type": "code",
   "execution_count": 429,
   "id": "d735ae27-bfeb-437d-94f7-f0d9ab78b03b",
   "metadata": {},
   "outputs": [
    {
     "name": "stdout",
     "output_type": "stream",
     "text": [
      "  Code_type       Code Procedure_Description  NDC  \\\n",
      "0       EAP  CPT 10080           Cyst Simple  NaN   \n",
      "1       EAP  CPT 10080           Cyst Simple  NaN   \n",
      "\n",
      "                                            Rev_Code  IP_Price  OP_Price  \\\n",
      "0  0516 - CLINIC - EMERGENCY ROOM URGENT CARE CLINIC       100       100   \n",
      "1                 0516 - CLINIC - URGENT CARE CLINIC       100       100   \n",
      "\n",
      "   Payer1Plan1_IP  Payer1Plan1_OP  Payer1Plan2_IP  Payer1Plan2_OP  \\\n",
      "0           300.0           400.0             NaN             NaN   \n",
      "1             NaN             NaN           175.0           350.0   \n",
      "\n",
      "   Self Pay_IP  Self Pay_OP  MIN_IP  MAX_IP  MIN_OP  MAX_OP  \n",
      "0          NaN          NaN   300.0   300.0   400.0   400.0  \n",
      "1        200.0        200.0   175.0   200.0   200.0   350.0  \n"
     ]
    }
   ],
   "source": [
    "print(PT)"
   ]
  },
  {
   "cell_type": "code",
   "execution_count": 430,
   "id": "63c2201d-2a84-46e1-af26-63c211191e43",
   "metadata": {},
   "outputs": [],
   "source": [
    "# Output file name\n",
    "output_filename = 'PriceTransparency.csv'\n",
    "\n",
    "# Write the output to a CSV file\n",
    "PT.to_csv(output_filename, index=False)"
   ]
  },
  {
   "cell_type": "code",
   "execution_count": null,
   "id": "05d951fc-d6f2-4c04-86b7-85b3924cc748",
   "metadata": {},
   "outputs": [],
   "source": []
  }
 ],
 "metadata": {
  "kernelspec": {
   "display_name": "anaconda-2022.05-py39",
   "language": "python",
   "name": "conda-env-anaconda-2022.05-py39-py"
  },
  "language_info": {
   "codemirror_mode": {
    "name": "ipython",
    "version": 3
   },
   "file_extension": ".py",
   "mimetype": "text/x-python",
   "name": "python",
   "nbconvert_exporter": "python",
   "pygments_lexer": "ipython3",
   "version": "3.9.12"
  }
 },
 "nbformat": 4,
 "nbformat_minor": 5
}
